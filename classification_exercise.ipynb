{
  "cells": [
    {
      "cell_type": "markdown",
      "metadata": {
        "id": "r5jQ6jnONg0P"
      },
      "source": [
        "# Classification Exercise"
      ]
    },
    {
      "cell_type": "code",
      "execution_count": 175,
      "metadata": {
        "id": "iRKU0aQVQ80k"
      },
      "outputs": [],
      "source": [
        "import pandas as pd\n",
        "from sklearn.preprocessing import LabelEncoder\n",
        "from sklearn.ensemble import RandomForestClassifier\n",
        "from sklearn.linear_model import LogisticRegression\n",
        "from sklearn.model_selection import KFold, cross_val_score, ParameterGrid\n",
        "from sklearn.neighbors import KNeighborsClassifier\n",
        "from sklearn.svm import SVC\n",
        "from sklearn.tree import DecisionTreeClassifier\n",
        "from sklearn.preprocessing import StandardScaler\n",
        "from sklearn.model_selection import GridSearchCV"
      ]
    },
    {
      "cell_type": "code",
      "execution_count": 176,
      "metadata": {},
      "outputs": [
        {
          "data": {
            "text/html": [
              "<div>\n",
              "<style scoped>\n",
              "    .dataframe tbody tr th:only-of-type {\n",
              "        vertical-align: middle;\n",
              "    }\n",
              "\n",
              "    .dataframe tbody tr th {\n",
              "        vertical-align: top;\n",
              "    }\n",
              "\n",
              "    .dataframe thead th {\n",
              "        text-align: right;\n",
              "    }\n",
              "</style>\n",
              "<table border=\"1\" class=\"dataframe\">\n",
              "  <thead>\n",
              "    <tr style=\"text-align: right;\">\n",
              "      <th></th>\n",
              "      <th>city_development_index</th>\n",
              "      <th>gender</th>\n",
              "      <th>relevent_experience</th>\n",
              "      <th>enrolled_university</th>\n",
              "      <th>education_level</th>\n",
              "      <th>major_discipline</th>\n",
              "      <th>experience</th>\n",
              "      <th>company_type</th>\n",
              "      <th>last_new_job</th>\n",
              "      <th>training_hours</th>\n",
              "      <th>target</th>\n",
              "    </tr>\n",
              "  </thead>\n",
              "  <tbody>\n",
              "    <tr>\n",
              "      <th>0</th>\n",
              "      <td>0.624</td>\n",
              "      <td>Male</td>\n",
              "      <td>No relevent experience</td>\n",
              "      <td>no_enrollment</td>\n",
              "      <td>High School</td>\n",
              "      <td>NaN</td>\n",
              "      <td>5</td>\n",
              "      <td>NaN</td>\n",
              "      <td>never</td>\n",
              "      <td>21</td>\n",
              "      <td>0</td>\n",
              "    </tr>\n",
              "    <tr>\n",
              "      <th>1</th>\n",
              "      <td>0.926</td>\n",
              "      <td>Male</td>\n",
              "      <td>Has relevent experience</td>\n",
              "      <td>no_enrollment</td>\n",
              "      <td>Graduate</td>\n",
              "      <td>STEM</td>\n",
              "      <td>&gt;20</td>\n",
              "      <td>NaN</td>\n",
              "      <td>&gt;4</td>\n",
              "      <td>12</td>\n",
              "      <td>0</td>\n",
              "    </tr>\n",
              "    <tr>\n",
              "      <th>2</th>\n",
              "      <td>0.920</td>\n",
              "      <td>Male</td>\n",
              "      <td>Has relevent experience</td>\n",
              "      <td>no_enrollment</td>\n",
              "      <td>Graduate</td>\n",
              "      <td>STEM</td>\n",
              "      <td>&gt;20</td>\n",
              "      <td>Public Sector</td>\n",
              "      <td>&gt;4</td>\n",
              "      <td>26</td>\n",
              "      <td>0</td>\n",
              "    </tr>\n",
              "    <tr>\n",
              "      <th>3</th>\n",
              "      <td>0.624</td>\n",
              "      <td>Male</td>\n",
              "      <td>No relevent experience</td>\n",
              "      <td>Full time course</td>\n",
              "      <td>High School</td>\n",
              "      <td>NaN</td>\n",
              "      <td>1</td>\n",
              "      <td>NaN</td>\n",
              "      <td>never</td>\n",
              "      <td>30</td>\n",
              "      <td>1</td>\n",
              "    </tr>\n",
              "    <tr>\n",
              "      <th>4</th>\n",
              "      <td>0.920</td>\n",
              "      <td>Female</td>\n",
              "      <td>Has relevent experience</td>\n",
              "      <td>no_enrollment</td>\n",
              "      <td>Masters</td>\n",
              "      <td>STEM</td>\n",
              "      <td>&gt;20</td>\n",
              "      <td>NaN</td>\n",
              "      <td>&gt;4</td>\n",
              "      <td>46</td>\n",
              "      <td>0</td>\n",
              "    </tr>\n",
              "    <tr>\n",
              "      <th>...</th>\n",
              "      <td>...</td>\n",
              "      <td>...</td>\n",
              "      <td>...</td>\n",
              "      <td>...</td>\n",
              "      <td>...</td>\n",
              "      <td>...</td>\n",
              "      <td>...</td>\n",
              "      <td>...</td>\n",
              "      <td>...</td>\n",
              "      <td>...</td>\n",
              "      <td>...</td>\n",
              "    </tr>\n",
              "    <tr>\n",
              "      <th>2095</th>\n",
              "      <td>0.920</td>\n",
              "      <td>Male</td>\n",
              "      <td>Has relevent experience</td>\n",
              "      <td>no_enrollment</td>\n",
              "      <td>Graduate</td>\n",
              "      <td>STEM</td>\n",
              "      <td>17</td>\n",
              "      <td>NaN</td>\n",
              "      <td>4</td>\n",
              "      <td>4</td>\n",
              "      <td>0</td>\n",
              "    </tr>\n",
              "    <tr>\n",
              "      <th>2096</th>\n",
              "      <td>0.920</td>\n",
              "      <td>Male</td>\n",
              "      <td>Has relevent experience</td>\n",
              "      <td>no_enrollment</td>\n",
              "      <td>Graduate</td>\n",
              "      <td>STEM</td>\n",
              "      <td>8</td>\n",
              "      <td>Funded Startup</td>\n",
              "      <td>2</td>\n",
              "      <td>10</td>\n",
              "      <td>1</td>\n",
              "    </tr>\n",
              "    <tr>\n",
              "      <th>2097</th>\n",
              "      <td>0.855</td>\n",
              "      <td>Male</td>\n",
              "      <td>No relevent experience</td>\n",
              "      <td>no_enrollment</td>\n",
              "      <td>High School</td>\n",
              "      <td>NaN</td>\n",
              "      <td>&lt;1</td>\n",
              "      <td>NaN</td>\n",
              "      <td>never</td>\n",
              "      <td>37</td>\n",
              "      <td>0</td>\n",
              "    </tr>\n",
              "    <tr>\n",
              "      <th>2098</th>\n",
              "      <td>0.920</td>\n",
              "      <td>Male</td>\n",
              "      <td>No relevent experience</td>\n",
              "      <td>no_enrollment</td>\n",
              "      <td>Graduate</td>\n",
              "      <td>STEM</td>\n",
              "      <td>&gt;20</td>\n",
              "      <td>NaN</td>\n",
              "      <td>1</td>\n",
              "      <td>11</td>\n",
              "      <td>0</td>\n",
              "    </tr>\n",
              "    <tr>\n",
              "      <th>2099</th>\n",
              "      <td>0.754</td>\n",
              "      <td>Male</td>\n",
              "      <td>Has relevent experience</td>\n",
              "      <td>no_enrollment</td>\n",
              "      <td>Graduate</td>\n",
              "      <td>STEM</td>\n",
              "      <td>&gt;20</td>\n",
              "      <td>Pvt Ltd</td>\n",
              "      <td>&gt;4</td>\n",
              "      <td>82</td>\n",
              "      <td>0</td>\n",
              "    </tr>\n",
              "  </tbody>\n",
              "</table>\n",
              "<p>2100 rows × 11 columns</p>\n",
              "</div>"
            ],
            "text/plain": [
              "      city_development_index  gender      relevent_experience  \\\n",
              "0                      0.624    Male   No relevent experience   \n",
              "1                      0.926    Male  Has relevent experience   \n",
              "2                      0.920    Male  Has relevent experience   \n",
              "3                      0.624    Male   No relevent experience   \n",
              "4                      0.920  Female  Has relevent experience   \n",
              "...                      ...     ...                      ...   \n",
              "2095                   0.920    Male  Has relevent experience   \n",
              "2096                   0.920    Male  Has relevent experience   \n",
              "2097                   0.855    Male   No relevent experience   \n",
              "2098                   0.920    Male   No relevent experience   \n",
              "2099                   0.754    Male  Has relevent experience   \n",
              "\n",
              "     enrolled_university education_level major_discipline experience  \\\n",
              "0          no_enrollment     High School              NaN          5   \n",
              "1          no_enrollment        Graduate             STEM        >20   \n",
              "2          no_enrollment        Graduate             STEM        >20   \n",
              "3       Full time course     High School              NaN          1   \n",
              "4          no_enrollment         Masters             STEM        >20   \n",
              "...                  ...             ...              ...        ...   \n",
              "2095       no_enrollment        Graduate             STEM         17   \n",
              "2096       no_enrollment        Graduate             STEM          8   \n",
              "2097       no_enrollment     High School              NaN         <1   \n",
              "2098       no_enrollment        Graduate             STEM        >20   \n",
              "2099       no_enrollment        Graduate             STEM        >20   \n",
              "\n",
              "        company_type last_new_job  training_hours  target  \n",
              "0                NaN        never              21       0  \n",
              "1                NaN           >4              12       0  \n",
              "2      Public Sector           >4              26       0  \n",
              "3                NaN        never              30       1  \n",
              "4                NaN           >4              46       0  \n",
              "...              ...          ...             ...     ...  \n",
              "2095             NaN            4               4       0  \n",
              "2096  Funded Startup            2              10       1  \n",
              "2097             NaN        never              37       0  \n",
              "2098             NaN            1              11       0  \n",
              "2099         Pvt Ltd           >4              82       0  \n",
              "\n",
              "[2100 rows x 11 columns]"
            ]
          },
          "execution_count": 176,
          "metadata": {},
          "output_type": "execute_result"
        }
      ],
      "source": [
        "train_dataset = pd.read_csv('https://raw.githubusercontent.com/WHPAN0108/BHT-DataScience-S23/main/classification/data/Assigment/aug_train.csv')\n",
        "\n",
        "train_dataset"
      ]
    },
    {
      "cell_type": "code",
      "execution_count": 177,
      "metadata": {
        "colab": {
          "base_uri": "https://localhost:8080/",
          "height": 423
        },
        "id": "5eUf3NXoNwX7",
        "outputId": "755f99fe-8239-4731-f354-21273bdbad82"
      },
      "outputs": [
        {
          "data": {
            "text/html": [
              "<div>\n",
              "<style scoped>\n",
              "    .dataframe tbody tr th:only-of-type {\n",
              "        vertical-align: middle;\n",
              "    }\n",
              "\n",
              "    .dataframe tbody tr th {\n",
              "        vertical-align: top;\n",
              "    }\n",
              "\n",
              "    .dataframe thead th {\n",
              "        text-align: right;\n",
              "    }\n",
              "</style>\n",
              "<table border=\"1\" class=\"dataframe\">\n",
              "  <thead>\n",
              "    <tr style=\"text-align: right;\">\n",
              "      <th></th>\n",
              "      <th>city_development_index</th>\n",
              "      <th>gender</th>\n",
              "      <th>relevent_experience</th>\n",
              "      <th>enrolled_university</th>\n",
              "      <th>education_level</th>\n",
              "      <th>major_discipline</th>\n",
              "      <th>experience</th>\n",
              "      <th>company_type</th>\n",
              "      <th>last_new_job</th>\n",
              "      <th>training_hours</th>\n",
              "      <th>target</th>\n",
              "    </tr>\n",
              "  </thead>\n",
              "  <tbody>\n",
              "    <tr>\n",
              "      <th>0</th>\n",
              "      <td>0.624</td>\n",
              "      <td>NaN</td>\n",
              "      <td>Has relevent experience</td>\n",
              "      <td>Full time course</td>\n",
              "      <td>Graduate</td>\n",
              "      <td>Other</td>\n",
              "      <td>3</td>\n",
              "      <td>Pvt Ltd</td>\n",
              "      <td>1</td>\n",
              "      <td>134</td>\n",
              "      <td>0</td>\n",
              "    </tr>\n",
              "    <tr>\n",
              "      <th>1</th>\n",
              "      <td>0.920</td>\n",
              "      <td>Female</td>\n",
              "      <td>No relevent experience</td>\n",
              "      <td>no_enrollment</td>\n",
              "      <td>Graduate</td>\n",
              "      <td>STEM</td>\n",
              "      <td>5</td>\n",
              "      <td>Early Stage Startup</td>\n",
              "      <td>1</td>\n",
              "      <td>34</td>\n",
              "      <td>1</td>\n",
              "    </tr>\n",
              "    <tr>\n",
              "      <th>2</th>\n",
              "      <td>0.767</td>\n",
              "      <td>NaN</td>\n",
              "      <td>Has relevent experience</td>\n",
              "      <td>Full time course</td>\n",
              "      <td>Graduate</td>\n",
              "      <td>STEM</td>\n",
              "      <td>10</td>\n",
              "      <td>Pvt Ltd</td>\n",
              "      <td>2</td>\n",
              "      <td>90</td>\n",
              "      <td>0</td>\n",
              "    </tr>\n",
              "    <tr>\n",
              "      <th>3</th>\n",
              "      <td>0.910</td>\n",
              "      <td>Male</td>\n",
              "      <td>No relevent experience</td>\n",
              "      <td>NaN</td>\n",
              "      <td>High School</td>\n",
              "      <td>NaN</td>\n",
              "      <td>10</td>\n",
              "      <td>NaN</td>\n",
              "      <td>never</td>\n",
              "      <td>42</td>\n",
              "      <td>0</td>\n",
              "    </tr>\n",
              "    <tr>\n",
              "      <th>4</th>\n",
              "      <td>0.624</td>\n",
              "      <td>Male</td>\n",
              "      <td>Has relevent experience</td>\n",
              "      <td>Part time course</td>\n",
              "      <td>Graduate</td>\n",
              "      <td>STEM</td>\n",
              "      <td>3</td>\n",
              "      <td>Pvt Ltd</td>\n",
              "      <td>1</td>\n",
              "      <td>198</td>\n",
              "      <td>0</td>\n",
              "    </tr>\n",
              "    <tr>\n",
              "      <th>...</th>\n",
              "      <td>...</td>\n",
              "      <td>...</td>\n",
              "      <td>...</td>\n",
              "      <td>...</td>\n",
              "      <td>...</td>\n",
              "      <td>...</td>\n",
              "      <td>...</td>\n",
              "      <td>...</td>\n",
              "      <td>...</td>\n",
              "      <td>...</td>\n",
              "      <td>...</td>\n",
              "    </tr>\n",
              "    <tr>\n",
              "      <th>95</th>\n",
              "      <td>0.698</td>\n",
              "      <td>Male</td>\n",
              "      <td>Has relevent experience</td>\n",
              "      <td>no_enrollment</td>\n",
              "      <td>Graduate</td>\n",
              "      <td>STEM</td>\n",
              "      <td>7</td>\n",
              "      <td>Pvt Ltd</td>\n",
              "      <td>never</td>\n",
              "      <td>139</td>\n",
              "      <td>0</td>\n",
              "    </tr>\n",
              "    <tr>\n",
              "      <th>96</th>\n",
              "      <td>0.926</td>\n",
              "      <td>Male</td>\n",
              "      <td>No relevent experience</td>\n",
              "      <td>no_enrollment</td>\n",
              "      <td>Masters</td>\n",
              "      <td>STEM</td>\n",
              "      <td>10</td>\n",
              "      <td>NaN</td>\n",
              "      <td>2</td>\n",
              "      <td>45</td>\n",
              "      <td>1</td>\n",
              "    </tr>\n",
              "    <tr>\n",
              "      <th>97</th>\n",
              "      <td>0.920</td>\n",
              "      <td>Male</td>\n",
              "      <td>Has relevent experience</td>\n",
              "      <td>no_enrollment</td>\n",
              "      <td>Masters</td>\n",
              "      <td>STEM</td>\n",
              "      <td>7</td>\n",
              "      <td>NaN</td>\n",
              "      <td>1</td>\n",
              "      <td>22</td>\n",
              "      <td>0</td>\n",
              "    </tr>\n",
              "    <tr>\n",
              "      <th>98</th>\n",
              "      <td>0.939</td>\n",
              "      <td>Male</td>\n",
              "      <td>No relevent experience</td>\n",
              "      <td>Full time course</td>\n",
              "      <td>High School</td>\n",
              "      <td>NaN</td>\n",
              "      <td>7</td>\n",
              "      <td>NaN</td>\n",
              "      <td>1</td>\n",
              "      <td>182</td>\n",
              "      <td>0</td>\n",
              "    </tr>\n",
              "    <tr>\n",
              "      <th>99</th>\n",
              "      <td>0.738</td>\n",
              "      <td>Male</td>\n",
              "      <td>Has relevent experience</td>\n",
              "      <td>no_enrollment</td>\n",
              "      <td>Graduate</td>\n",
              "      <td>STEM</td>\n",
              "      <td>10</td>\n",
              "      <td>Pvt Ltd</td>\n",
              "      <td>2</td>\n",
              "      <td>21</td>\n",
              "      <td>0</td>\n",
              "    </tr>\n",
              "  </tbody>\n",
              "</table>\n",
              "<p>100 rows × 11 columns</p>\n",
              "</div>"
            ],
            "text/plain": [
              "    city_development_index  gender      relevent_experience  \\\n",
              "0                    0.624     NaN  Has relevent experience   \n",
              "1                    0.920  Female   No relevent experience   \n",
              "2                    0.767     NaN  Has relevent experience   \n",
              "3                    0.910    Male   No relevent experience   \n",
              "4                    0.624    Male  Has relevent experience   \n",
              "..                     ...     ...                      ...   \n",
              "95                   0.698    Male  Has relevent experience   \n",
              "96                   0.926    Male   No relevent experience   \n",
              "97                   0.920    Male  Has relevent experience   \n",
              "98                   0.939    Male   No relevent experience   \n",
              "99                   0.738    Male  Has relevent experience   \n",
              "\n",
              "   enrolled_university education_level major_discipline experience  \\\n",
              "0     Full time course        Graduate            Other          3   \n",
              "1        no_enrollment        Graduate             STEM          5   \n",
              "2     Full time course        Graduate             STEM         10   \n",
              "3                  NaN     High School              NaN         10   \n",
              "4     Part time course        Graduate             STEM          3   \n",
              "..                 ...             ...              ...        ...   \n",
              "95       no_enrollment        Graduate             STEM          7   \n",
              "96       no_enrollment         Masters             STEM         10   \n",
              "97       no_enrollment         Masters             STEM          7   \n",
              "98    Full time course     High School              NaN          7   \n",
              "99       no_enrollment        Graduate             STEM         10   \n",
              "\n",
              "           company_type last_new_job  training_hours  target  \n",
              "0               Pvt Ltd            1             134       0  \n",
              "1   Early Stage Startup            1              34       1  \n",
              "2               Pvt Ltd            2              90       0  \n",
              "3                   NaN        never              42       0  \n",
              "4               Pvt Ltd            1             198       0  \n",
              "..                  ...          ...             ...     ...  \n",
              "95              Pvt Ltd        never             139       0  \n",
              "96                  NaN            2              45       1  \n",
              "97                  NaN            1              22       0  \n",
              "98                  NaN            1             182       0  \n",
              "99              Pvt Ltd            2              21       0  \n",
              "\n",
              "[100 rows x 11 columns]"
            ]
          },
          "execution_count": 177,
          "metadata": {},
          "output_type": "execute_result"
        }
      ],
      "source": [
        "test_dataset = pd.read_csv(\"https://raw.githubusercontent.com/WHPAN0108/BHT-DataScience-S23/main/classification/data/Assigment/aug_test.csv\")\n",
        "\n",
        "test_dataset"
      ]
    },
    {
      "cell_type": "markdown",
      "metadata": {},
      "source": [
        "### Data clean, imputation"
      ]
    },
    {
      "cell_type": "markdown",
      "metadata": {},
      "source": [
        "1. in experience, replace >20 to 21; <1 to 1, and convert this as a numerical column."
      ]
    },
    {
      "cell_type": "markdown",
      "metadata": {},
      "source": [
        "#### Train Data"
      ]
    },
    {
      "cell_type": "code",
      "execution_count": 178,
      "metadata": {},
      "outputs": [
        {
          "data": {
            "text/plain": [
              "10"
            ]
          },
          "execution_count": 178,
          "metadata": {},
          "output_type": "execute_result"
        }
      ],
      "source": [
        "train_dataset[\"experience\"].isna().sum()"
      ]
    },
    {
      "cell_type": "code",
      "execution_count": 179,
      "metadata": {},
      "outputs": [],
      "source": [
        "train_dataset['experience'] = train_dataset['experience'].replace({\"<1\": 1, \">20\": 21}).astype(float)"
      ]
    },
    {
      "cell_type": "code",
      "execution_count": 180,
      "metadata": {},
      "outputs": [
        {
          "data": {
            "text/plain": [
              "10"
            ]
          },
          "execution_count": 180,
          "metadata": {},
          "output_type": "execute_result"
        }
      ],
      "source": [
        "train_dataset[\"experience\"].isna().sum()"
      ]
    },
    {
      "cell_type": "code",
      "execution_count": 181,
      "metadata": {},
      "outputs": [
        {
          "data": {
            "text/plain": [
              "dtype('float64')"
            ]
          },
          "execution_count": 181,
          "metadata": {},
          "output_type": "execute_result"
        }
      ],
      "source": [
        "train_dataset[\"experience\"].dtype"
      ]
    },
    {
      "cell_type": "markdown",
      "metadata": {},
      "source": [
        "#### Test Data"
      ]
    },
    {
      "cell_type": "code",
      "execution_count": 182,
      "metadata": {},
      "outputs": [
        {
          "data": {
            "text/plain": [
              "0"
            ]
          },
          "execution_count": 182,
          "metadata": {},
          "output_type": "execute_result"
        }
      ],
      "source": [
        "test_dataset[\"experience\"].isna().sum()"
      ]
    },
    {
      "cell_type": "code",
      "execution_count": 183,
      "metadata": {},
      "outputs": [],
      "source": [
        "test_dataset['experience'] = test_dataset['experience'].replace({\"<1\": 1, \">20\": 21}).astype(float)"
      ]
    },
    {
      "cell_type": "code",
      "execution_count": 184,
      "metadata": {},
      "outputs": [
        {
          "data": {
            "text/plain": [
              "dtype('float64')"
            ]
          },
          "execution_count": 184,
          "metadata": {},
          "output_type": "execute_result"
        }
      ],
      "source": [
        "test_dataset[\"experience\"].dtype"
      ]
    },
    {
      "cell_type": "markdown",
      "metadata": {},
      "source": [
        "2. in last_new_job, replace >4 to 5; never to 0, and convert this as a numerical column"
      ]
    },
    {
      "cell_type": "markdown",
      "metadata": {},
      "source": [
        "#### Train Data"
      ]
    },
    {
      "cell_type": "code",
      "execution_count": 185,
      "metadata": {},
      "outputs": [
        {
          "data": {
            "text/plain": [
              "52"
            ]
          },
          "execution_count": 185,
          "metadata": {},
          "output_type": "execute_result"
        }
      ],
      "source": [
        "train_dataset[\"last_new_job\"].isna().sum()"
      ]
    },
    {
      "cell_type": "code",
      "execution_count": 186,
      "metadata": {},
      "outputs": [],
      "source": [
        "train_dataset['last_new_job'] = train_dataset['last_new_job'].replace({\">4\": 5, \"never\": 0}).astype(float)"
      ]
    },
    {
      "cell_type": "code",
      "execution_count": 187,
      "metadata": {},
      "outputs": [
        {
          "data": {
            "text/plain": [
              "52"
            ]
          },
          "execution_count": 187,
          "metadata": {},
          "output_type": "execute_result"
        }
      ],
      "source": [
        "train_dataset[\"last_new_job\"].isna().sum()"
      ]
    },
    {
      "cell_type": "code",
      "execution_count": 188,
      "metadata": {},
      "outputs": [
        {
          "data": {
            "text/plain": [
              "dtype('float64')"
            ]
          },
          "execution_count": 188,
          "metadata": {},
          "output_type": "execute_result"
        }
      ],
      "source": [
        "train_dataset[\"last_new_job\"].dtype"
      ]
    },
    {
      "cell_type": "markdown",
      "metadata": {},
      "source": [
        "#### Test Data"
      ]
    },
    {
      "cell_type": "code",
      "execution_count": 189,
      "metadata": {},
      "outputs": [
        {
          "data": {
            "text/plain": [
              "0"
            ]
          },
          "execution_count": 189,
          "metadata": {},
          "output_type": "execute_result"
        }
      ],
      "source": [
        "test_dataset[\"last_new_job\"].isna().sum()"
      ]
    },
    {
      "cell_type": "code",
      "execution_count": 190,
      "metadata": {},
      "outputs": [],
      "source": [
        "test_dataset['last_new_job'] = test_dataset['last_new_job'].replace({\">4\": 5, \"never\": 0}).astype(float)"
      ]
    },
    {
      "cell_type": "code",
      "execution_count": 191,
      "metadata": {},
      "outputs": [
        {
          "data": {
            "text/plain": [
              "dtype('float64')"
            ]
          },
          "execution_count": 191,
          "metadata": {},
          "output_type": "execute_result"
        }
      ],
      "source": [
        "test_dataset[\"last_new_job\"].dtype"
      ]
    },
    {
      "cell_type": "markdown",
      "metadata": {},
      "source": [
        "3. If the column is categorical, impute the missing value as its mode. If the column is numerical, impute the missing value as its median"
      ]
    },
    {
      "cell_type": "markdown",
      "metadata": {},
      "source": [
        "#### Train Data"
      ]
    },
    {
      "cell_type": "code",
      "execution_count": 192,
      "metadata": {},
      "outputs": [
        {
          "name": "stdout",
          "output_type": "stream",
          "text": [
            "<class 'pandas.core.frame.DataFrame'>\n",
            "RangeIndex: 2100 entries, 0 to 2099\n",
            "Data columns (total 11 columns):\n",
            " #   Column                  Non-Null Count  Dtype  \n",
            "---  ------                  --------------  -----  \n",
            " 0   city_development_index  2100 non-null   float64\n",
            " 1   gender                  1585 non-null   object \n",
            " 2   relevent_experience     2100 non-null   object \n",
            " 3   enrolled_university     2051 non-null   object \n",
            " 4   education_level         2049 non-null   object \n",
            " 5   major_discipline        1768 non-null   object \n",
            " 6   experience              2090 non-null   float64\n",
            " 7   company_type            1415 non-null   object \n",
            " 8   last_new_job            2048 non-null   float64\n",
            " 9   training_hours          2100 non-null   int64  \n",
            " 10  target                  2100 non-null   int64  \n",
            "dtypes: float64(3), int64(2), object(6)\n",
            "memory usage: 180.6+ KB\n"
          ]
        }
      ],
      "source": [
        "train_dataset.info()"
      ]
    },
    {
      "cell_type": "code",
      "execution_count": 193,
      "metadata": {},
      "outputs": [
        {
          "data": {
            "text/plain": [
              "city_development_index      0\n",
              "gender                    515\n",
              "relevent_experience         0\n",
              "enrolled_university        49\n",
              "education_level            51\n",
              "major_discipline          332\n",
              "experience                 10\n",
              "company_type              685\n",
              "last_new_job               52\n",
              "training_hours              0\n",
              "target                      0\n",
              "dtype: int64"
            ]
          },
          "execution_count": 193,
          "metadata": {},
          "output_type": "execute_result"
        }
      ],
      "source": [
        "train_dataset.isna().sum()"
      ]
    },
    {
      "cell_type": "code",
      "execution_count": 194,
      "metadata": {},
      "outputs": [],
      "source": [
        "train_dataset[\"gender\"] = train_dataset[\"gender\"].fillna(train_dataset[\"gender\"].mode()[0])\n",
        "train_dataset[\"enrolled_university\"] = train_dataset[\"enrolled_university\"].fillna(train_dataset[\"enrolled_university\"].mode()[0])\n",
        "train_dataset[\"education_level\"] = train_dataset[\"education_level\"].fillna(train_dataset[\"education_level\"].mode()[0])\n",
        "train_dataset[\"major_discipline\"] = train_dataset[\"major_discipline\"].fillna(train_dataset[\"major_discipline\"].mode()[0])\n",
        "train_dataset[\"experience\"] = train_dataset[\"experience\"].fillna(train_dataset[\"experience\"].median())\n",
        "train_dataset[\"company_type\"] = train_dataset[\"company_type\"].fillna(train_dataset[\"company_type\"].mode()[0])\n",
        "train_dataset[\"last_new_job\"] = train_dataset[\"last_new_job\"].fillna(train_dataset[\"last_new_job\"].median())"
      ]
    },
    {
      "cell_type": "code",
      "execution_count": 195,
      "metadata": {},
      "outputs": [
        {
          "data": {
            "text/plain": [
              "city_development_index    0\n",
              "gender                    0\n",
              "relevent_experience       0\n",
              "enrolled_university       0\n",
              "education_level           0\n",
              "major_discipline          0\n",
              "experience                0\n",
              "company_type              0\n",
              "last_new_job              0\n",
              "training_hours            0\n",
              "target                    0\n",
              "dtype: int64"
            ]
          },
          "execution_count": 195,
          "metadata": {},
          "output_type": "execute_result"
        }
      ],
      "source": [
        "train_dataset.isna().sum()"
      ]
    },
    {
      "cell_type": "markdown",
      "metadata": {},
      "source": [
        "#### Test Data"
      ]
    },
    {
      "cell_type": "code",
      "execution_count": 196,
      "metadata": {},
      "outputs": [
        {
          "name": "stdout",
          "output_type": "stream",
          "text": [
            "<class 'pandas.core.frame.DataFrame'>\n",
            "RangeIndex: 100 entries, 0 to 99\n",
            "Data columns (total 11 columns):\n",
            " #   Column                  Non-Null Count  Dtype  \n",
            "---  ------                  --------------  -----  \n",
            " 0   city_development_index  100 non-null    float64\n",
            " 1   gender                  72 non-null     object \n",
            " 2   relevent_experience     100 non-null    object \n",
            " 3   enrolled_university     96 non-null     object \n",
            " 4   education_level         98 non-null     object \n",
            " 5   major_discipline        88 non-null     object \n",
            " 6   experience              100 non-null    float64\n",
            " 7   company_type            64 non-null     object \n",
            " 8   last_new_job            100 non-null    float64\n",
            " 9   training_hours          100 non-null    int64  \n",
            " 10  target                  100 non-null    int64  \n",
            "dtypes: float64(3), int64(2), object(6)\n",
            "memory usage: 8.7+ KB\n"
          ]
        }
      ],
      "source": [
        "test_dataset.info()"
      ]
    },
    {
      "cell_type": "code",
      "execution_count": 197,
      "metadata": {},
      "outputs": [
        {
          "data": {
            "text/plain": [
              "city_development_index     0\n",
              "gender                    28\n",
              "relevent_experience        0\n",
              "enrolled_university        4\n",
              "education_level            2\n",
              "major_discipline          12\n",
              "experience                 0\n",
              "company_type              36\n",
              "last_new_job               0\n",
              "training_hours             0\n",
              "target                     0\n",
              "dtype: int64"
            ]
          },
          "execution_count": 197,
          "metadata": {},
          "output_type": "execute_result"
        }
      ],
      "source": [
        "test_dataset.isna().sum()"
      ]
    },
    {
      "cell_type": "code",
      "execution_count": 198,
      "metadata": {},
      "outputs": [],
      "source": [
        "test_dataset[\"gender\"] = test_dataset[\"gender\"].fillna(test_dataset[\"gender\"].mode()[0])\n",
        "test_dataset[\"enrolled_university\"] = test_dataset[\"enrolled_university\"].fillna(test_dataset[\"enrolled_university\"].mode()[0])\n",
        "test_dataset[\"education_level\"] = test_dataset[\"education_level\"].fillna(test_dataset[\"education_level\"].mode()[0])\n",
        "test_dataset[\"major_discipline\"] = test_dataset[\"major_discipline\"].fillna(test_dataset[\"major_discipline\"].mode()[0])\n",
        "test_dataset[\"company_type\"] = test_dataset[\"company_type\"].fillna(test_dataset[\"company_type\"].mode()[0])"
      ]
    },
    {
      "cell_type": "code",
      "execution_count": 199,
      "metadata": {},
      "outputs": [
        {
          "data": {
            "text/plain": [
              "city_development_index    0\n",
              "gender                    0\n",
              "relevent_experience       0\n",
              "enrolled_university       0\n",
              "education_level           0\n",
              "major_discipline          0\n",
              "experience                0\n",
              "company_type              0\n",
              "last_new_job              0\n",
              "training_hours            0\n",
              "target                    0\n",
              "dtype: int64"
            ]
          },
          "execution_count": 199,
          "metadata": {},
          "output_type": "execute_result"
        }
      ],
      "source": [
        "test_dataset.isna().sum()"
      ]
    },
    {
      "cell_type": "markdown",
      "metadata": {},
      "source": [
        "### Classification"
      ]
    },
    {
      "cell_type": "code",
      "execution_count": 200,
      "metadata": {},
      "outputs": [
        {
          "name": "stdout",
          "output_type": "stream",
          "text": [
            "Spalte 'gender':\n",
            "\tFemale: 0\n",
            "\tMale: 1\n",
            "\tOther: 2\n",
            "Spalte 'relevent_experience':\n",
            "\tHas relevent experience: 0\n",
            "\tNo relevent experience: 1\n",
            "Spalte 'enrolled_university':\n",
            "\tFull time course: 0\n",
            "\tPart time course: 1\n",
            "\tno_enrollment: 2\n",
            "Spalte 'education_level':\n",
            "\tGraduate: 0\n",
            "\tHigh School: 1\n",
            "\tMasters: 2\n",
            "Spalte 'major_discipline':\n",
            "\tArts: 0\n",
            "\tBusiness Degree: 1\n",
            "\tHumanities: 2\n",
            "\tOther: 3\n",
            "\tSTEM: 4\n",
            "Spalte 'company_type':\n",
            "\tEarly Stage Startup: 0\n",
            "\tFunded Startup: 1\n",
            "\tNGO: 2\n",
            "\tPublic Sector: 3\n",
            "\tPvt Ltd: 4\n"
          ]
        }
      ],
      "source": [
        "columns_to_encode = [\"gender\", \"relevent_experience\", \"enrolled_university\", \"education_level\", \"major_discipline\", \"company_type\"]\n",
        "\n",
        "encoder = LabelEncoder()\n",
        "\n",
        "for column in columns_to_encode:\n",
        "    train_dataset[column] = encoder.fit_transform(train_dataset[column])\n",
        "    test_dataset[column] = encoder.fit_transform(test_dataset[column])\n",
        "    print(f\"Spalte '{column}':\")\n",
        "    for original_category, encoded_value in zip(encoder.classes_, encoder.transform(encoder.classes_)):\n",
        "        print(f\"\\t{original_category}: {encoded_value}\")"
      ]
    },
    {
      "cell_type": "code",
      "execution_count": 201,
      "metadata": {},
      "outputs": [],
      "source": [
        "X_train = train_dataset.drop(columns=['target'])\n",
        "y_train = train_dataset['target']\n",
        "\n",
        "X_test = test_dataset.drop(columns=['target'])\n",
        "y_test = test_dataset['target']"
      ]
    },
    {
      "cell_type": "code",
      "execution_count": 202,
      "metadata": {},
      "outputs": [],
      "source": [
        "scaler = StandardScaler()\n",
        "scaled_X_train = scaler.fit_transform(X_train)\n",
        "scaled_X_test = scaler.transform(X_test)"
      ]
    },
    {
      "cell_type": "markdown",
      "metadata": {},
      "source": [
        "1. Build a classification model from the training set ( you can use any algorithms)"
      ]
    },
    {
      "cell_type": "code",
      "execution_count": 203,
      "metadata": {},
      "outputs": [
        {
          "name": "stdout",
          "output_type": "stream",
          "text": [
            "RFC: Best 0.7776190476190477 using {'bootstrap': True, 'criterion': 'entropy', 'max_depth': 10, 'max_features': 'sqrt', 'min_samples_leaf': 4, 'min_samples_split': 10, 'n_estimators': 300, 'oob_score': True}\n",
            "LR: Best 0.7661904761904761 using {'C': 0.1, 'class_weight': None, 'max_iter': 100, 'penalty': 'l2', 'solver': 'liblinear'}\n",
            "SVC: Best 0.7652380952380952 using {'C': 1, 'class_weight': None, 'gamma': 'scale', 'kernel': 'rbf'}\n",
            "KNN: Best 0.7538095238095238 using {'algorithm': 'auto', 'leaf_size': 20, 'n_neighbors': 11, 'p': 1, 'weights': 'uniform'}\n",
            "DTC: Best 0.7823809523809524 using {'criterion': 'gini', 'max_depth': None, 'max_features': None, 'max_leaf_nodes': None, 'min_impurity_decrease': 0.01, 'min_samples_leaf': 1, 'min_samples_split': 2, 'splitter': 'best'}\n"
          ]
        }
      ],
      "source": [
        "results = []\n",
        "names_of_models = []\n",
        "\n",
        "rfc_parameter = {\n",
        "    'n_estimators': [100, 200, 300],\n",
        "    'criterion': ['gini', 'entropy'],\n",
        "    'max_depth': [None, 10, 20, 30],\n",
        "    'min_samples_split': [2, 5, 10],\n",
        "    'min_samples_leaf': [1, 2, 4],\n",
        "    'max_features': [None, 0.1, 0.5, 1, 'sqrt', 'log2'],\n",
        "    'bootstrap': [True, False],\n",
        "    'oob_score': [True, False]\n",
        "}\n",
        "\n",
        "lg_parameters = {\n",
        "    'C': [0.01, 0.1, 1, 10, 100],\n",
        "    'penalty': ['l2', None],  # Beachte: 'l1' benötigt solver='liblinear' oder 'saga'\n",
        "    'solver': ['newton-cg', 'lbfgs', 'liblinear', 'saga'],\n",
        "    'max_iter': [100, 200, 300],\n",
        "    'class_weight': [None, 'balanced']\n",
        "    }\n",
        "\n",
        "svc_parameter = {\n",
        "    'C': [0.1, 1, 10, 100],\n",
        "    'kernel': ['linear', 'poly', 'rbf', 'sigmoid'],\n",
        "    'gamma': ['scale', 'auto'],\n",
        "    'degree': [2, 3, 4],  # Nur für 'poly' relevant\n",
        "    'coef0': [0.0, 0.1, 0.5],  # Für 'poly' und 'sigmoid' relevant\n",
        "    'class_weight': [None, 'balanced']\n",
        "}\n",
        "\n",
        "knn_parameter = {\n",
        "    'n_neighbors': [3, 5, 7, 9, 11],\n",
        "    'weights': ['uniform', 'distance'],\n",
        "    'algorithm': ['auto', 'ball_tree', 'kd_tree', 'brute'],\n",
        "    'leaf_size': [20, 30, 40, 50],\n",
        "    'p': [1, 2]\n",
        "}\n",
        "\n",
        "dtc_parameter = {\n",
        "    'criterion': ['gini', 'entropy'],\n",
        "    'splitter': ['best', 'random'],\n",
        "    'max_depth': [None, 10, 20, 30, 40, 50],\n",
        "    'min_samples_split': [2, 5, 10],\n",
        "    'min_samples_leaf': [1, 2, 4],\n",
        "    'max_features': [None, 0.1, 0.5, 1, 'sqrt', 'log2'],\n",
        "    'max_leaf_nodes': [None, 10, 20, 30, 40, 50],\n",
        "    'min_impurity_decrease': [0.0, 0.01, 0.1]\n",
        "}\n",
        "\n",
        "# Helper function to ensure all parameter values are lists\n",
        "def ensure_list(param_dict):\n",
        "    for key in param_dict:\n",
        "        if not isinstance(param_dict[key], list):\n",
        "            param_dict[key] = [param_dict[key]]\n",
        "    return param_dict\n",
        "\n",
        "def create_rfc_param_grid(params):\n",
        "    param_grid = list(ParameterGrid(params))\n",
        "    filtered_param_grid = []\n",
        "    for param_combination in param_grid:\n",
        "        if param_combination['oob_score'] == True and param_combination['bootstrap'] == False:\n",
        "            continue\n",
        "        filtered_param_grid.append(ensure_list(param_combination))\n",
        "    return filtered_param_grid\n",
        "\n",
        "# Filterfunktion für Logistic Regression\n",
        "def create_lg_param_grid(params):\n",
        "    param_grid = list(ParameterGrid(params))\n",
        "    filtered_param_grid = []\n",
        "    for param_combination in param_grid:\n",
        "        if param_combination['penalty'] == 'l2' and param_combination['solver'] in ['newton-cg', 'lbfgs', 'liblinear', 'saga']:\n",
        "            filtered_param_grid.append(ensure_list(param_combination))\n",
        "        elif param_combination['penalty'] == 'none' and param_combination['solver'] in ['newton-cg', 'lbfgs', 'saga']:\n",
        "            filtered_param_grid.append(ensure_list(param_combination))\n",
        "    return filtered_param_grid\n",
        "\n",
        "# Filterfunktion für SVC\n",
        "def create_svc_param_grid(params):\n",
        "    param_grid = list(ParameterGrid(params))\n",
        "    filtered_param_grid = []\n",
        "    for param_combination in param_grid:\n",
        "        if param_combination['kernel'] == 'poly':\n",
        "            filtered_param_grid.append(ensure_list(param_combination))\n",
        "        elif param_combination['kernel'] in ['linear', 'rbf']:\n",
        "            param_combination.pop('degree', None)\n",
        "            param_combination.pop('coef0', None)\n",
        "            filtered_param_grid.append(ensure_list(param_combination))\n",
        "        elif param_combination['kernel'] == 'sigmoid':\n",
        "            param_combination.pop('degree', None)\n",
        "            filtered_param_grid.append(ensure_list(param_combination))\n",
        "    return filtered_param_grid\n",
        "\n",
        "filtered_rfc_parameters = create_rfc_param_grid(rfc_parameter)\n",
        "filtered_lg_parameters = create_lg_param_grid(lg_parameters)\n",
        "filtered_svc_parameters = create_svc_param_grid(svc_parameter)\n",
        "\n",
        "model_list = [\n",
        "               ('RFC', RandomForestClassifier(n_estimators=100, max_features=3,random_state=1), filtered_rfc_parameters),\n",
        "               ('LR', LogisticRegression(random_state=1), filtered_lg_parameters),\n",
        "               ('SVC', SVC(random_state=1), filtered_svc_parameters),\n",
        "               ('KNN', KNeighborsClassifier(), knn_parameter),\n",
        "               ('DTC', DecisionTreeClassifier(random_state=1), dtc_parameter),\n",
        "            ]\n",
        "\n",
        "for name, model, parameters_for_testing in model_list:\n",
        "    kfold = KFold(n_splits=5)\n",
        "    grid_cv = GridSearchCV(estimator=model, param_grid=parameters_for_testing, scoring='accuracy', cv=kfold)\n",
        "    result = grid_cv.fit(scaled_X_train, y_train)\n",
        "\n",
        "    print(\"{}: Best {} using {}\".format(name, result.best_score_, result.best_params_))"
      ]
    },
    {
      "cell_type": "markdown",
      "metadata": {},
      "source": [
        "2. generate the confusion matrix and calculate the accuracy, precision, recall, and F1-score on training set. "
      ]
    },
    {
      "cell_type": "code",
      "execution_count": null,
      "metadata": {},
      "outputs": [],
      "source": [
        "tuned_model_rf = RandomForestClassifier(n_estimators=50,max_features=5)\n",
        "tuned_model_rf.fit(scaled_X_train, y_train)"
      ]
    },
    {
      "cell_type": "markdown",
      "metadata": {},
      "source": [
        "3. Applying the model in the test set and generating the prediction"
      ]
    },
    {
      "cell_type": "code",
      "execution_count": null,
      "metadata": {},
      "outputs": [],
      "source": []
    },
    {
      "cell_type": "markdown",
      "metadata": {},
      "source": [
        "4. generate the confusion matrix from the test set and calculate the accuracy, precision, recall, and F1-score"
      ]
    },
    {
      "cell_type": "code",
      "execution_count": null,
      "metadata": {},
      "outputs": [],
      "source": []
    },
    {
      "cell_type": "markdown",
      "metadata": {},
      "source": [
        "5. compare the results between the training and test set"
      ]
    },
    {
      "cell_type": "code",
      "execution_count": null,
      "metadata": {},
      "outputs": [],
      "source": []
    },
    {
      "cell_type": "markdown",
      "metadata": {},
      "source": [
        "Extra point: think about what kind of the method can increase the performance (does not need to run )"
      ]
    },
    {
      "cell_type": "markdown",
      "metadata": {},
      "source": []
    }
  ],
  "metadata": {
    "colab": {
      "provenance": []
    },
    "kernelspec": {
      "display_name": "Python 3",
      "name": "python3"
    },
    "language_info": {
      "codemirror_mode": {
        "name": "ipython",
        "version": 3
      },
      "file_extension": ".py",
      "mimetype": "text/x-python",
      "name": "python",
      "nbconvert_exporter": "python",
      "pygments_lexer": "ipython3",
      "version": "3.11.5"
    }
  },
  "nbformat": 4,
  "nbformat_minor": 0
}
